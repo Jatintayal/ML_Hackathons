{
  "cells": [
    {
      "metadata": {
        "_uuid": "27ab301604ccb0b3e69525dad5988d1ade0b2076"
      },
      "cell_type": "markdown",
      "source": "# Deep Neural Network for Digit Classification"
    },
    {
      "metadata": {
        "_uuid": "bec8cb1681d95c19742d72f625cfe24ca8df0a74"
      },
      "cell_type": "markdown",
      "source": "# 1 - Packages\n\nLet's first import all the packages that I'll be using during this project.\n\n* numpy is the main package for scientific computing with Python.\n* pandas is a library for data manipulation and analysis.\n* matplotlib is a library to plot graphs in Python.\n* math contains some useful mathematical functions.\n* train_test_split is used to split our training data into training, dev datasets."
    },
    {
      "metadata": {
        "_uuid": "8f2839f25d086af736a60e9eeb907d3b93b6e0e5",
        "_cell_guid": "b1076dfc-b9ad-4769-8c92-a6c4dae69d19",
        "trusted": true
      },
      "cell_type": "code",
      "source": "import numpy as np\nimport pandas as pd\nimport matplotlib.pyplot as plt\nimport math\nfrom sklearn.model_selection import train_test_split",
      "execution_count": 77,
      "outputs": []
    },
    {
      "metadata": {
        "_uuid": "5c91cc2fdf9336e3f589737d7796ce0d71b43aa7"
      },
      "cell_type": "markdown",
      "source": "# 2 - Dataset\n\n*  We imported the train, test data provided by MNIST.\n* We then splitted the train data into two datasets, one contained features and other contained the target variables.\n* We then splitted the features, targets into training, dev sets with 1/9 ratio."
    },
    {
      "metadata": {
        "trusted": true,
        "_uuid": "d7efdee4eccb00c96f447a03af621966879d7b4b"
      },
      "cell_type": "code",
      "source": "train = pd.read_csv(\"../input/train.csv\")           #Import the data\nX_test_orig = pd.read_csv(\"../input/test.csv\")\n\nfeatures = train.drop(\"label\", axis=1)              #Split the data into features and target.\ntarget = np.array(train['label'])\n\nX_train_orig, X_dev_orig, y_train, y_dev = train_test_split(features, target, test_size=0.1, random_state=42)    #Split the data into train, dev sets.\n\ndel train\ndel features\ndel target",
      "execution_count": 78,
      "outputs": []
    },
    {
      "metadata": {
        "_uuid": "364d7585100f433fcba6d482f7084f0186b4d68a"
      },
      "cell_type": "markdown",
      "source": "# 3 - Visualization\n\nNow we are going to check some pictures from our training data to see what do they actually contain. Here we plotted 25 pictures in a 5x5 grid."
    },
    {
      "metadata": {
        "trusted": true,
        "_uuid": "fd32b94215ec6facf8cb6527ddc21988a1a67eea"
      },
      "cell_type": "code",
      "source": "f, ax = plt.subplots(5, 5)\nfor i in range(1,26):\n    grid=X_train_orig.values.reshape(-1,28,28,1)[i][:, :, 0]\n    n=math.ceil(i/5)-1\n    m=[0,1,2,3,4]*5\n    ax[m[i-1], n].imshow(grid)",
      "execution_count": 79,
      "outputs": [
        {
          "output_type": "display_data",
          "data": {
            "text/plain": "<Figure size 432x288 with 25 Axes>",
            "image/png": "[encoded data removed]"
          },
          "metadata": {}
        }
      ]
    },
    {
      "metadata": {
        "_uuid": "2b101dec7a8634d064f01293d69d7f8aac4e587f"
      },
      "cell_type": "markdown",
      "source": "# 4 - Data Pre-processiong\n\n* Here we normalized our data from the range of 0 - 255 to the range of 0 - 1.\n* Then we converted our train, dev target sets to One-hot vectors.\n* Then we shaped our data sets to fit to our NN model."
    },
    {
      "metadata": {
        "trusted": true,
        "_uuid": "94c8bb7e96d074b96cd4cd1e0fd30dfddf13400f"
      },
      "cell_type": "code",
      "source": "X_train = X_train_orig / 255.0                               #Normalization of datasets.\nX_test = X_test_orig / 255.0\n\nm = y_train.shape[0]                                    #Conversion to one hot vectors.\nY_train = np.zeros((m, 10))\nY_train[np.arange(m), y_train] = 1\n\nn = y_dev.shape[0]\nY_dev = np.zeros((n, 10))\nY_dev[np.arange(n), y_dev] = 1\n\nX_train = X_train.T                                     #Reshaping the datasets.\nY_train = Y_train.T\nX_dev = X_dev.T\nY_dev = Y_dev.T\nX_test = X_test.T\n\nprint (\"train_x's shape: \" + str(X_train.shape))        #Printing the shapes to check whether everythings on place or not.\nprint (\"train_y's shape: \" + str(Y_train.shape))\nprint (\"dev_x's shape: \" + str(X_dev.shape))\nprint (\"dev_y's shape: \" + str(Y_dev.shape))\nprint (\"test_x's shape: \" + str(X_test.shape))",
      "execution_count": 80,
      "outputs": [
        {
          "output_type": "stream",
          "text": "train_x's shape: (784, 37800)\ntrain_y's shape: (10, 37800)\ndev_x's shape: (784, 4200)\ndev_y's shape: (10, 4200)\ntest_x's shape: (784, 28000)\n",
          "name": "stdout"
        }
      ]
    },
    {
      "metadata": {
        "_uuid": "197fe80efe60bc2ed3328ec667ba3742ddbc6240"
      },
      "cell_type": "markdown",
      "source": "# 5 - Architecture of our model\n\nNow that we are familiar with the dataset, it is time to build a deep neural network to distinguish between different digit images.\n\n*  layer_dims defines how many layers our model is gonna have and how many nodes each one of them will contain.\n\nI tried a bunch of different architectures but this one worked the best for me as increasing the number of layers caused varience and so many nodes in a single layer leades to more computation time."
    },
    {
      "metadata": {
        "trusted": true,
        "_uuid": "19a5779263a3343296d60b929442f990b5838bcc"
      },
      "cell_type": "code",
      "source": "# Constants which defines the model.\nlayer_dims = (X_train.shape[0], 500, 10)",
      "execution_count": 81,
      "outputs": []
    },
    {
      "metadata": {
        "_uuid": "d5c7be26fbf31233040cd5ac14078aa583bb2f06"
      },
      "cell_type": "markdown",
      "source": "# 6 - Initialization\n\nThis function is responsible for initialization of weights and biases. This function can initialize parameters for any deep NN architecture as it isn't hardcoded to work with a specific model."
    },
    {
      "metadata": {
        "trusted": true,
        "_uuid": "082c8cb4b0d94edc9eff4fe067808ec93c631f4d"
      },
      "cell_type": "code",
      "source": "def initialize_parameters(layers_dims):\n    \n    parameters = {}\n    L = len(layers_dims)\n    \n    for l in range(1, L):\n        parameters['W' + str(l)] = np.random.randn(layers_dims[l], layers_dims[l-1]) * 0.01\n        parameters['b' + str(l)] = np.zeros((layers_dims[l], 1))\n        \n        assert(parameters['W' + str(l)].shape == (layer_dims[l], layer_dims[l-1]))\n        assert(parameters['b' + str(l)].shape == (layer_dims[l], 1))\n    return parameters",
      "execution_count": 82,
      "outputs": []
    },
    {
      "metadata": {
        "_uuid": "210de86c3a776ec352f73e18448bb904ea73cdf1"
      },
      "cell_type": "markdown",
      "source": "**Helper functions**\n\nThese functions handels some basic calculation tasks which are importand in forward and backward propagation.\n*  sigmoid, relu - As the name suggests these functions calculate the Sigmoid, Relu of a value respectively.\n* sigmoid_backward, relu_backward - These functions are used in back propagation as they calculates dZ from dA(derivative of the activation of the previous layer). \n\nIf A = Sigmoid(Z) then we'll use sigmoid _backward to calculate dZ otherwise we'll use relu_backward."
    },
    {
      "metadata": {
        "trusted": true,
        "_uuid": "9b6ffcba6b944880497f9c968ed2c4a22b395d74"
      },
      "cell_type": "code",
      "source": "def sigmoid(Z):                             #This function calculates the sigmoid of z\n    A = 1/(1+np.exp(-Z))\n    cache = Z\n    return A, cache\n\ndef relu(Z):                                #This function calculates the relu of z\n    A = np.maximum(0,Z)\n    assert(A.shape == Z.shape)\n    cache = Z \n    return A, cache",
      "execution_count": 83,
      "outputs": []
    },
    {
      "metadata": {
        "trusted": true,
        "_uuid": "f5da1235af2b30b8773e9b9b547534af31d7abf0"
      },
      "cell_type": "code",
      "source": "def sigmoid_backward(dA, cache):            #These functions calculates dZ from dA.\n    \n    Z = cache\n    \n    s = 1/(1+np.exp(-Z))\n    dZ = dA * s * (1-s)\n    \n    assert (dZ.shape == Z.shape)\n    \n    return dZ\n\n\ndef relu_backward(dA, cache):\n    \n    Z = cache\n    dZ = np.array(dA, copy=True) # just converting dz to a correct object.\n    \n    # When z <= 0, you should set dz to 0 as well. \n    dZ[Z <= 0] = 0\n    \n    assert (dZ.shape == Z.shape)\n    \n    return dZ",
      "execution_count": 84,
      "outputs": []
    },
    {
      "metadata": {
        "_uuid": "4552db763963d53f11570498157fa0b79f8ef838"
      },
      "cell_type": "markdown",
      "source": "# 7 - Forward propagation modules\n\nIn forward propagation our model has to perform 4 tasks - \n\n**7 . 1 - Calculate the linear function. **\n\nz = Weights * Activation_of_previous_layer + bias\n\n**7 . 2 - Calculate the activation function.**\n\na = activation(z)     \n\nIn this model we are using linear --> relu --> linear --> relu --- (for all the hidden layers) ---> linear --> sigmoid\n\n**7 . 3 - Propagate forward.**\n\nOnce we have calculated the activations for one layer then we have to hop on to next layer to calculate it's activations, this is called forward propagation. We do this for all the layers in our model.\n\n**7 . 4 - Compute the cost.**\n\nThis function signifies the gap between the values predicted and the actual values. We are to make this gap as narrow as possible which means we have to minimize the cost function. And for this purpose we optimize our parameters.\n\nThe above tasks are divided between 3 functions-\n* forward_activation calculates the linear, activation functions.\n* forward_propagation uses forward_activation to calculate the activations for the entire network as it propagates from layer L to L+1.\n* compute_cost function calculates the cost at the end of forward propagation."
    },
    {
      "metadata": {
        "trusted": true,
        "_uuid": "5d9942dec6221a61cd090daf996de059e8c085ab"
      },
      "cell_type": "code",
      "source": "def forward_activation(A_prev, W, b, activation):\n    Z = np.dot(W, A_prev) + b                         #Calculate the linear function.\n    linear_cache = (A_prev, W, b)                     #Store the linear_cache.\n    \n    if activation == \"sigmoid\":\n        A, activation_cache = sigmoid(Z)              #Calculate the sigmoid of Z.\n    \n    elif activation == \"relu\":\n        A, activation_cache = relu(Z)                 #Calculate the relu of Z.\n    \n    cache = (linear_cache, activation_cache)          #store both the caches into cache.\n    \n    assert(Z.shape == (W.shape[0], A.shape[1]))\n    assert (A.shape == (W.shape[0], A_prev.shape[1]))\n\n    return A, cache",
      "execution_count": 85,
      "outputs": []
    },
    {
      "metadata": {
        "trusted": true,
        "_uuid": "2a8f57506980b0a11d9dd027fc3a73dec814f488"
      },
      "cell_type": "code",
      "source": "def forward_propagation(X, parameters):\n    caches = []\n    A = X\n    L = len(parameters) // 2                  # number of layers in the neural network\n    \n    # Implement [LINEAR -> RELU]*(L-1). Add \"cache\" to the \"caches\" list.\n    for l in range(1, L):\n        A_prev = A \n        A, cache = forward_activation(A_prev, parameters['W' + str(l)], parameters['b' + str(l)], activation='relu')\n        caches.append(cache)\n    \n    AL, cache = forward_activation(A, parameters['W' + str(L)], parameters['b' + str(L)], activation='sigmoid')\n    caches.append(cache)\n    \n    assert(AL.shape == (10,X.shape[1]))\n            \n    return AL, caches",
      "execution_count": 86,
      "outputs": []
    },
    {
      "metadata": {
        "trusted": true,
        "_uuid": "7e631d9920f4acae3cc6485a188d7e044704d2ec"
      },
      "cell_type": "code",
      "source": "def compute_cost(AL, Y):\n    m = Y.shape[1]\n    cost = (-1 / m) * np.sum(np.multiply(Y, np.log(AL)) + np.multiply(1 - Y, np.log(1 - AL)))      #Calculate the cost.\n    \n    cost = np.squeeze(cost)      # To make sure your cost's shape is what we expect.\n    assert(cost.shape == ())\n    \n    return cost",
      "execution_count": 87,
      "outputs": []
    },
    {
      "metadata": {
        "_uuid": "b4647a4fd4ba7fced558522d552f69728f0ff784"
      },
      "cell_type": "markdown",
      "source": "# 8 - Backward propagation modules\n\nIn backward propagation our model has to complete 2 tasks-\n\n**8 . 1 - Calculate the gradients.**\n\nCalculate the values of dZ, dW, dc using dA of next layer and parameters of the current layer.\n\n**8 . 2 - Propagate backwards.**\n\nOnce we've computed the grads of one layer then we go to the layer before that. We do this for every layer except the input layer."
    },
    {
      "metadata": {
        "_uuid": "c7497f9f1dd74f6261ca3895ecf441f12ef46b51"
      },
      "cell_type": "markdown",
      "source": "**backward_activation**\n\nThis function calculates the gradients."
    },
    {
      "metadata": {
        "trusted": true,
        "_uuid": "17353e80cfe4cfd5724f314a503fc79e09675ce3"
      },
      "cell_type": "code",
      "source": "def backward_activation(dA, cache, activation):\n    linear_cache, activation_cache = cache\n    \n    if activation == \"relu\":\n        dZ = relu_backward(dA, activation_cache)\n        \n    elif activation == \"sigmoid\":\n        dZ = sigmoid_backward(dA, activation_cache)\n    \n    #dA_prev, dW, db = linear_backward(dZ, linear_cache)\n    A_prev, W, b = linear_cache\n    m = A_prev.shape[1]\n\n    dW = np.dot(dZ, A_prev.T) / m\n    db = np.sum(dZ, axis=1, keepdims=True) / m    \n    dA_prev = np.dot(W.T, dZ)\n    \n    assert (dA_prev.shape == A_prev.shape)\n    assert (dW.shape == W.shape)\n    assert (db.shape == b.shape)\n    return dA_prev, dW, db",
      "execution_count": 88,
      "outputs": []
    },
    {
      "metadata": {
        "_uuid": "f288e433483a06eb525e5ede46ee2750e20e3264"
      },
      "cell_type": "markdown",
      "source": "**back_propagate**\n\nThis function uses backward_activation to calculate the gradients of one layer and then jumps from layer L to L - 1 to compute it's gradients."
    },
    {
      "metadata": {
        "trusted": true,
        "_uuid": "b618c812376f9e7175b12b3126ef3e56a0f60105"
      },
      "cell_type": "code",
      "source": "def back_propagation(AL, Y, caches):\n    grads = {}\n    L = len(caches) # the number of layers\n    m = AL.shape[1]\n    Y = Y.reshape(AL.shape) # after this line, Y is the same shape as AL\n\n    dAL = - (np.divide(Y, AL) - np.divide(1 - Y, 1 - AL)) # derivative of cost with respect to AL\n    \n    current_cache = caches[L - 1]\n    grads[\"dA\" + str(L)], grads[\"dW\" + str(L)], grads[\"db\" + str(L)] = backward_activation(dAL, current_cache, activation = \"sigmoid\")\n    \n    for l in reversed(range(L-1)):\n        current_cache = caches[l]\n        dA_prev_temp, dW_temp, db_temp = backward_activation(grads[\"dA\" + str(l + 2)], current_cache, activation = \"relu\")\n        grads[\"dA\" + str(l + 1)] = dA_prev_temp\n        grads[\"dW\" + str(l + 1)] = dW_temp\n        grads[\"db\" + str(l + 1)] = db_temp\n\n    return grads",
      "execution_count": 89,
      "outputs": []
    },
    {
      "metadata": {
        "_uuid": "4a64c1a67b45b8cad422a746f8cccd9fe92da458"
      },
      "cell_type": "markdown",
      "source": "# 9 - Optimization\n\nThis section is used to optimize the weights and biases. \n\nIn this model I used gradient descent algorithm for optimization purposes."
    },
    {
      "metadata": {
        "trusted": true,
        "_uuid": "e3e864d94979742fb8490f3ab36eb55dcf3e438e"
      },
      "cell_type": "code",
      "source": "def optimize(parameters, grads, learning_rate):\n    L = len(parameters) // 2 # number of layers in the neural network\n    \n    for l in range(L):\n        parameters[\"W\" + str(l+1)] = parameters['W' + str(l+1)] - learning_rate * grads['dW' + str(l + 1)]\n        parameters[\"b\" + str(l+1)] = parameters['b' + str(l+1)] - learning_rate * grads['db' + str(l + 1)]\n        \n    return parameters",
      "execution_count": 90,
      "outputs": []
    },
    {
      "metadata": {
        "_uuid": "69be617770746a31286557be1e57115d7ae14e71"
      },
      "cell_type": "markdown",
      "source": "# 10 - L layer neural network\n\nFinally.. Finally.. Finally.. This is the time to sum it all up and use all of our previous functions to create a fully fledged Neural Network."
    },
    {
      "metadata": {
        "trusted": true,
        "_uuid": "af10843109b9444114b61cb182380bc024921030"
      },
      "cell_type": "code",
      "source": "def model(X, Y, layer_dims, learning_rate=0.4, num_iterations=3000, print_cost=False):\n\n    np.random.seed(1)\n    costs = []                         # keep track of cost\n    \n    parameters = initialize_parameters(layer_dims)            #Initialize the parameters for our model.\n    \n    # Loop (gradient descent)\n    for i in range(0, num_iterations):\n\n        # Forward propagation: [LINEAR -> RELU]*(L-1) -> LINEAR -> SIGMOID.\n        AL, caches = forward_propagation(X, parameters)\n        \n        # Compute cost.\n        cost = compute_cost(AL, Y)\n    \n        # Backward propagation.\n        grads = back_propagation(AL, Y, caches)\n        \n        # Gradient descent\n        parameters = optimize(parameters, grads, learning_rate)\n        \n        if print_cost and i % 100 == 0:\n            print (\"Cost after iteration %i: %f\" % (i, cost))\n        if print_cost and i % 100 == 0:\n            costs.append(cost)\n            \n    # plot the cost\n    plt.plot(np.squeeze(costs))\n    plt.ylabel('cost')\n    plt.xlabel('iterations (per tens)')\n    plt.title(\"Learning rate =\" + str(learning_rate))\n    plt.show()\n    \n    return parameters\n",
      "execution_count": 91,
      "outputs": []
    },
    {
      "metadata": {
        "_uuid": "57803519649c45cadd9c48dc4e6b28d23842a71f"
      },
      "cell_type": "markdown",
      "source": "# Train the model\n\nAs our model is now ready we can start it's training.\n\nHere I specified the number of iterations to 1000 because the cost was minimizing with insignificant values after that."
    },
    {
      "metadata": {
        "trusted": true,
        "_uuid": "53a69697491270df633b708e1a9b0f3470acab0b",
        "scrolled": false
      },
      "cell_type": "code",
      "source": "parameters = model(X_train, Y_train, layer_dims, num_iterations=1000, print_cost=True)",
      "execution_count": 92,
      "outputs": [
        {
          "output_type": "stream",
          "text": "Cost after iteration 0: 6.920515\nCost after iteration 100: 0.659092\nCost after iteration 200: 0.482869\nCost after iteration 300: 0.397061\nCost after iteration 400: 0.341135\nCost after iteration 500: 0.300116\nCost after iteration 600: 0.268134\nCost after iteration 700: 0.242165\nCost after iteration 800: 0.220619\nCost after iteration 900: 0.202388\n",
          "name": "stdout"
        },
        {
          "output_type": "display_data",
          "data": {
            "text/plain": "<Figure size 432x288 with 1 Axes>",
            "image/png": "[encoded data removed]"
          },
          "metadata": {}
        }
      ]
    },
    {
      "metadata": {
        "_uuid": "a7823701cf08156808bb039299b00409bc8100b7"
      },
      "cell_type": "markdown",
      "source": "The plot above shows how the cost varies with the number of iterations and up until ~100 it has got a steep slope and after that point it barely minimizes throughout the plot."
    },
    {
      "metadata": {
        "_uuid": "60bb8be9599ce64047ddd8584fba3171c7da8665"
      },
      "cell_type": "markdown",
      "source": "# Make the predictions\n\nNow that our model is trained, we can now see how well does our model do with training, test data."
    },
    {
      "metadata": {
        "trusted": true,
        "_uuid": "f80b6efaf5b8424453b6b00b82d8d72456fdb6cb"
      },
      "cell_type": "code",
      "source": "def predict(X, parameters):\n    \n    m = X.shape[1]\n    # Forward propagation\n    probas, caches = forward_propagation(X, parameters)\n    \n    p = np.reshape(np.argmax(probas, axis=0), (1, m))\n    \n    return p",
      "execution_count": 93,
      "outputs": []
    },
    {
      "metadata": {
        "trusted": true,
        "_uuid": "84484eaeef04926c549d7eab72d027779b6d8c17"
      },
      "cell_type": "code",
      "source": "def accuracy(p, y):\n    m = p.shape[1]\n    s = 0\n    y = np.reshape(np.argmax(y, axis=0), (1, m))\n    for i in range(m-1):\n        if np.array_equal(p[0, i], y[0, i]):\n            s = s + 1\n    acc = round((s/m) * 100, 2)\n    return acc",
      "execution_count": 94,
      "outputs": []
    },
    {
      "metadata": {
        "_uuid": "3ce40b22fd2ca3194050203c506b0b47649a8c4b"
      },
      "cell_type": "markdown",
      "source": "**Testing our model's performance on the training set**\n\nIf the model doesn't do good on training data then our model would suffer through high bias which means our model is underfitting the data. In that case increasing the number of layers should do the trick."
    },
    {
      "metadata": {
        "trusted": true,
        "_uuid": "bbed32b2c350e6952dc0cf2cf6a6bfb4b0c29bf7"
      },
      "cell_type": "code",
      "source": "pred_train = predict(X_train, parameters)\nprint('training accuracy is: {}'.format(accuracy(pred_train, Y_train)))",
      "execution_count": 95,
      "outputs": [
        {
          "output_type": "stream",
          "text": "training accuracy is: 97.7\n",
          "name": "stdout"
        }
      ]
    },
    {
      "metadata": {
        "_uuid": "927498f8c60ea69ddc700ea03e8b2e92aac6401d"
      },
      "cell_type": "markdown",
      "source": "**Testing our model's performance on the dev set**\n\nIf the model does surprisingly well on training data but performs poorly on test data then our model would suffer through high variance problem which means our model is overfitting the data. In that case I'd try gathering more data or redesign my model's architecture."
    },
    {
      "metadata": {
        "trusted": true,
        "_uuid": "cb70bfe66d28d0efcf29a06bd387af838ecad0ec"
      },
      "cell_type": "code",
      "source": "pred_dev = predict(X_dev, parameters)\nprint('test accuracy is: {}'.format(accuracy(pred_dev, Y_dev)))",
      "execution_count": 96,
      "outputs": [
        {
          "output_type": "stream",
          "text": "test accuracy is: 95.6\n",
          "name": "stdout"
        },
        {
          "output_type": "stream",
          "text": "/opt/conda/lib/python3.6/site-packages/ipykernel_launcher.py:2: RuntimeWarning: overflow encountered in exp\n  \n",
          "name": "stderr"
        }
      ]
    },
    {
      "metadata": {
        "_uuid": "98d292c9749c067711e93ccb30e856ac07b1fe4d"
      },
      "cell_type": "markdown",
      "source": "**Check the predections on the images in the test set**\n\nAs we haven't used the test set we got in our model until now. Now let's see how our model is working on these images.\n\nHere You can change the index value to see the predictions on different images."
    },
    {
      "metadata": {
        "trusted": true,
        "_uuid": "cdc37d42e9372e97a9be94243a40d0b4c6598781"
      },
      "cell_type": "code",
      "source": "index = 6969\nplt.imshow(X_test_orig.values.reshape(-1,28,28,1)[index][:, :, 0])\nprediction = np.squeeze(predict(np.reshape(X_test.values[:, index], (X_test.shape[0], 1)), parameters))\nprint('prediction is: {}'.format(prediction))",
      "execution_count": 97,
      "outputs": [
        {
          "output_type": "stream",
          "text": "prediction is: 7\n",
          "name": "stdout"
        },
        {
          "output_type": "display_data",
          "data": {
            "text/plain": "<Figure size 432x288 with 1 Axes>",
            "image/png": "[encoded data removed]"
          },
          "metadata": {}
        }
      ]
    },
    {
      "metadata": {
        "_uuid": "b162c2ed691c4b3ae71b5a042e9a68e0e206cc3b"
      },
      "cell_type": "markdown",
      "source": "**Output the submission file**"
    },
    {
      "metadata": {
        "trusted": true,
        "_uuid": "e5fac03f2bbe116e2ead4085d416482d71b4bfe2",
        "scrolled": true
      },
      "cell_type": "code",
      "source": "# predict results\nresults = (predict(X_test, parameters))\nwith open('submission.csv', 'w') as f :\n    f.write('ImageId,Label\\n')\n    for i in range(len(results)) :\n        f.write(\"\".join([str(i+1),',',str(results[i]),'\\n']))",
      "execution_count": 98,
      "outputs": []
    },
    {
      "metadata": {
        "_uuid": "858d1a420e71e8629a9ceadcf43dabe7f13ae229"
      },
      "cell_type": "markdown",
      "source": "# Conclusion\n\n* In this project I learned how to handel the image datasets and how to perform multiclass classification for cases like this.\n\n* In this project I learned how to handel high bias and high variance as at first I got 86% train 78% test accuracy which was pretty pathetic. Then I tweaked the architecture on model a bit, also tweaked some hyperparameters to get this 96% accuracy on test set."
    }
  ],
  "metadata": {
    "kernelspec": {
      "display_name": "Python 3",
      "language": "python",
      "name": "python3"
    },
    "language_info": {
      "name": "python",
      "version": "3.6.6",
      "mimetype": "text/x-python",
      "codemirror_mode": {
        "name": "ipython",
        "version": 3
      },
      "pygments_lexer": "ipython3",
      "nbconvert_exporter": "python",
      "file_extension": ".py"
    }
  },
  "nbformat": 4,
  "nbformat_minor": 1
}